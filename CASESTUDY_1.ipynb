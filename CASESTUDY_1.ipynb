{
  "cells": [
    {
      "cell_type": "code",
      "execution_count": null,
      "metadata": {
        "id": "fiP7cTcRPeSs"
      },
      "outputs": [],
      "source": [
        "import pandas as pd\n",
        "import numpy as np\n",
        "import matplotlib.pyplot as plt\n",
        "import seaborn as sns"
      ]
    },
    {
      "cell_type": "code",
      "execution_count": null,
      "metadata": {
        "id": "i9vCGEMWP-Ch"
      },
      "outputs": [],
      "source": [
        "df = pd.read_csv(\"/content/drive/MyDrive/python/datasets---/laptop_price.csv\",encoding='latin')\n",
        "df"
      ]
    },
    {
      "cell_type": "code",
      "execution_count": null,
      "metadata": {
        "id": "laLCKvAXR1YT"
      },
      "outputs": [],
      "source": [
        "df.drop(columns=['laptop_ID'],inplace=True)"
      ]
    },
    {
      "cell_type": "code",
      "execution_count": null,
      "metadata": {
        "id": "c0jezQnaQLBO"
      },
      "outputs": [],
      "source": [
        "df.isnull().sum()"
      ]
    },
    {
      "cell_type": "code",
      "execution_count": null,
      "metadata": {
        "id": "_wMEzXn7S7Hi"
      },
      "outputs": [],
      "source": [
        "df.duplicated().sum()"
      ]
    },
    {
      "cell_type": "code",
      "execution_count": null,
      "metadata": {
        "id": "Nv2CX_vKTAvy"
      },
      "outputs": [],
      "source": [
        "df[df.duplicated()]"
      ]
    },
    {
      "cell_type": "code",
      "execution_count": null,
      "metadata": {
        "id": "6U27U4nsTKu4"
      },
      "outputs": [],
      "source": [
        "df.drop_duplicates(inplace=True)"
      ]
    },
    {
      "cell_type": "code",
      "execution_count": null,
      "metadata": {
        "id": "Tc4o26jNTXHo"
      },
      "outputs": [],
      "source": [
        "df.duplicated().sum()"
      ]
    },
    {
      "cell_type": "code",
      "execution_count": null,
      "metadata": {
        "id": "T5JOV2ksTcYh"
      },
      "outputs": [],
      "source": [
        "df.info()"
      ]
    },
    {
      "cell_type": "code",
      "execution_count": null,
      "metadata": {
        "id": "qQjXXaggUfq7"
      },
      "outputs": [],
      "source": [
        "df.sample(5)"
      ]
    },
    {
      "cell_type": "code",
      "execution_count": null,
      "metadata": {
        "id": "0b_uokqPUm89"
      },
      "outputs": [],
      "source": [
        "df['Price']=round(df['Price_euros']*103.44,-2).astype('int')\n",
        "df.drop(columns=['Price_euros'],inplace=True)"
      ]
    },
    {
      "cell_type": "code",
      "execution_count": null,
      "metadata": {
        "id": "td0hZkAsX9VN"
      },
      "outputs": [],
      "source": [
        "sns.distplot(df['Price'],kde=True)"
      ]
    },
    {
      "cell_type": "code",
      "execution_count": null,
      "metadata": {
        "id": "gAWGqu-EYD15"
      },
      "outputs": [],
      "source": [
        "sns.kdeplot(df['Price'])"
      ]
    },
    {
      "cell_type": "code",
      "execution_count": null,
      "metadata": {
        "id": "wZdKU-RMYR-t"
      },
      "outputs": [],
      "source": [
        "# Right skewed data"
      ]
    },
    {
      "cell_type": "code",
      "execution_count": null,
      "metadata": {
        "id": "EySd7qknYdAr"
      },
      "outputs": [],
      "source": [
        "sns.kdeplot(np.log(df['Price']))"
      ]
    },
    {
      "cell_type": "code",
      "execution_count": null,
      "metadata": {
        "id": "9EGohfRuZDjw"
      },
      "outputs": [],
      "source": [
        "print(df['Company'].value_counts())"
      ]
    },
    {
      "cell_type": "code",
      "execution_count": null,
      "metadata": {
        "id": "omVX6C0mav_R"
      },
      "outputs": [],
      "source": [
        "df['Company'].value_counts().plot(kind='bar')"
      ]
    },
    {
      "cell_type": "code",
      "execution_count": null,
      "metadata": {
        "id": "xwkagA2Pa7ZZ"
      },
      "outputs": [],
      "source": [
        "df.groupby('Company')['Company'].count().sort_values(ascending=False)"
      ]
    },
    {
      "cell_type": "code",
      "execution_count": null,
      "metadata": {
        "id": "0v42s-vdbps7"
      },
      "outputs": [],
      "source": [
        "df.groupby('Company')['Company'].transform('count')"
      ]
    },
    {
      "cell_type": "code",
      "execution_count": null,
      "metadata": {
        "id": "CoAKYz89gubw"
      },
      "outputs": [],
      "source": [
        "51/1275"
      ]
    },
    {
      "cell_type": "code",
      "execution_count": null,
      "metadata": {
        "id": "soTmhT3Pf6AT"
      },
      "outputs": [],
      "source": [
        "df=df[df.groupby('Company')['Company'].transform('count')>20]\n",
        "df.reset_index(drop=True,inplace=True)"
      ]
    },
    {
      "cell_type": "code",
      "execution_count": null,
      "metadata": {
        "id": "sR-tJYTxf9Ee"
      },
      "outputs": [],
      "source": [
        "df"
      ]
    },
    {
      "cell_type": "code",
      "execution_count": null,
      "metadata": {
        "id": "2tMfpj5VgcH6"
      },
      "outputs": [],
      "source": [
        "print(df['Company'].value_counts())"
      ]
    },
    {
      "cell_type": "code",
      "execution_count": null,
      "metadata": {
        "id": "JW0BkU0SglRF"
      },
      "outputs": [],
      "source": [
        "sorted_company_list=df.groupby('Company')['Price'].mean().sort_values(ascending=False).index\n",
        "sorted_company_list"
      ]
    },
    {
      "cell_type": "code",
      "execution_count": null,
      "metadata": {
        "id": "LKuB54YNkIDs"
      },
      "outputs": [],
      "source": [
        "sorted_company_list[::-1]"
      ]
    },
    {
      "cell_type": "code",
      "execution_count": null,
      "metadata": {
        "id": "XBua_97hkaEk"
      },
      "outputs": [],
      "source": [
        "sns.color_palette('Greens')"
      ]
    },
    {
      "cell_type": "code",
      "execution_count": null,
      "metadata": {
        "id": "cWwzrcwFiorY"
      },
      "outputs": [],
      "source": [
        "sns.barplot(x=df['Company'],y=df['Price'],errorbar=None, order=sorted_company_list,\n",
        "            hue=df['Company'],palette='Greens',hue_order=sorted_company_list[::-1])"
      ]
    },
    {
      "cell_type": "code",
      "execution_count": null,
      "metadata": {
        "id": "2T9kg5r0jkoC"
      },
      "outputs": [],
      "source": [
        "df.sample()"
      ]
    },
    {
      "cell_type": "code",
      "execution_count": null,
      "metadata": {
        "id": "SLz0W6pWklTI"
      },
      "outputs": [],
      "source": [
        "print(df['Product'].value_counts()[80:130])"
      ]
    },
    {
      "cell_type": "code",
      "execution_count": null,
      "metadata": {
        "id": "V0-qtB0SkqFL"
      },
      "outputs": [],
      "source": [
        "df.drop(columns=['Product'],inplace=True)"
      ]
    },
    {
      "cell_type": "code",
      "execution_count": null,
      "metadata": {
        "id": "45bE1IrAldXN"
      },
      "outputs": [],
      "source": [
        "print(df['TypeName'].value_counts())"
      ]
    },
    {
      "cell_type": "code",
      "execution_count": null,
      "metadata": {
        "id": "wp-GKwRZlqHx"
      },
      "outputs": [],
      "source": [
        "df['TypeName'].value_counts().plot(kind='bar')"
      ]
    },
    {
      "cell_type": "code",
      "execution_count": null,
      "metadata": {
        "id": "lGotJ2M0mH-T"
      },
      "outputs": [],
      "source": [
        "sorted_typelist=df.groupby('TypeName')['Price'].mean().sort_values(ascending=False).index\n",
        "sorted_typelist"
      ]
    },
    {
      "cell_type": "code",
      "execution_count": null,
      "metadata": {
        "id": "8chSHH5Cl5s8"
      },
      "outputs": [],
      "source": [
        "sns.barplot(x=df['TypeName'],y=df['Price'],errorbar=None,order=sorted_typelist,\n",
        "            palette='Greens',hue=df['Price'],hue_order=sorted_typelist[::-1])\n",
        "plt.xticks(rotation=90)\n",
        "plt.show()"
      ]
    },
    {
      "cell_type": "code",
      "execution_count": null,
      "metadata": {
        "id": "gjVjOzzSnQZr"
      },
      "outputs": [],
      "source": [
        "# Session : 73 CASE STUDY 06/09/2025"
      ]
    },
    {
      "cell_type": "code",
      "execution_count": null,
      "metadata": {
        "id": "LwqMRinn6lo2"
      },
      "outputs": [],
      "source": [
        "print(df['Inches'].value_counts())"
      ]
    },
    {
      "cell_type": "code",
      "execution_count": null,
      "metadata": {
        "id": "HnGZZx516ut3"
      },
      "outputs": [],
      "source": [
        "sns.histplot(df['Inches'],kde=True)"
      ]
    },
    {
      "cell_type": "code",
      "execution_count": null,
      "metadata": {
        "id": "zAMb3Ugv7iD1"
      },
      "outputs": [],
      "source": [
        "sns.scatterplot(x=df['Inches'],y=df['Price'])"
      ]
    },
    {
      "cell_type": "code",
      "execution_count": null,
      "metadata": {
        "id": "Zoiqud6k7-B-"
      },
      "outputs": [],
      "source": [
        "print(df['ScreenResolution'].value_counts())"
      ]
    },
    {
      "cell_type": "code",
      "execution_count": null,
      "metadata": {
        "id": "LV4QPy8O8J2v"
      },
      "outputs": [],
      "source": [
        "a = \"IPS Panel Full HD / Touchscreen 1920x1080 \"\n",
        "a.split()[-1].split('x')[0]"
      ]
    },
    {
      "cell_type": "code",
      "execution_count": null,
      "metadata": {
        "id": "EzWCqX0f_LWa"
      },
      "outputs": [],
      "source": [
        "(lambda a:a.split()[-1].split('x')[0])(\"IPS Panel Full HD / Touchscreen 1920x1080 \")"
      ]
    },
    {
      "cell_type": "code",
      "execution_count": null,
      "metadata": {
        "id": "8xwB4gFeAdHj"
      },
      "outputs": [],
      "source": [
        "df['ScreenResolution'].str.split().str[-1].str.split('x').str[0]"
      ]
    },
    {
      "cell_type": "code",
      "execution_count": null,
      "metadata": {
        "id": "YNW5exSQ_zhD"
      },
      "outputs": [],
      "source": [
        "df['X_res']=df['ScreenResolution'].apply(lambda a:a.split()[-1].split('x')[0]).astype('int')\n",
        "df['Y_res']=df['ScreenResolution'].apply(lambda a:a.split()[-1].split('x')[1]).astype('int')\n",
        "df['TouchScreen']=df['ScreenResolution'].apply(lambda a:1 if \"Touchscreen\" in a else 0)\n",
        "df['IPS']=df['ScreenResolution'].apply(lambda a:1 if \"IPS\" in a else 0)"
      ]
    },
    {
      "cell_type": "code",
      "execution_count": null,
      "metadata": {
        "id": "UsHwYolhA7Ym"
      },
      "outputs": [],
      "source": [
        "df.sample(5)"
      ]
    },
    {
      "cell_type": "code",
      "execution_count": null,
      "metadata": {
        "id": "02EDsIH1B3ox"
      },
      "outputs": [],
      "source": [
        "df.drop(columns=['ScreenResolution'],inplace=True)"
      ]
    },
    {
      "cell_type": "code",
      "execution_count": null,
      "metadata": {
        "id": "RWaV7Z4JDx5R"
      },
      "outputs": [],
      "source": [
        "df.sample()"
      ]
    },
    {
      "cell_type": "code",
      "execution_count": null,
      "metadata": {
        "id": "vR_nu44-D0CU"
      },
      "outputs": [],
      "source": [
        "df['TouchScreen'].value_counts().plot(kind='bar')"
      ]
    },
    {
      "cell_type": "code",
      "execution_count": null,
      "metadata": {
        "id": "sXoJQdXIEL02"
      },
      "outputs": [],
      "source": [
        "sns.barplot(x=df['TouchScreen'],y=df['Price'],errorbar=None)"
      ]
    },
    {
      "cell_type": "code",
      "execution_count": null,
      "metadata": {
        "id": "POUEjgqxD90m"
      },
      "outputs": [],
      "source": [
        "df['IPS'].value_counts().plot(kind='bar')"
      ]
    },
    {
      "cell_type": "code",
      "execution_count": null,
      "metadata": {
        "id": "t_eWaxH1EKUO"
      },
      "outputs": [],
      "source": [
        "sns.barplot(x=df['IPS'],y=df['Price'],errorbar=None)"
      ]
    },
    {
      "cell_type": "code",
      "execution_count": null,
      "metadata": {
        "id": "u1W1Fc2dEtVn"
      },
      "outputs": [],
      "source": [
        "print(df['Cpu'].value_counts())"
      ]
    },
    {
      "cell_type": "code",
      "execution_count": null,
      "metadata": {
        "id": "87LMrn2nE0y5"
      },
      "outputs": [],
      "source": [
        "df['Cpu_Speed']=df['Cpu'].apply(lambda x:x.split()[-1].replace('GHz',\"\")).astype('float')"
      ]
    },
    {
      "cell_type": "code",
      "execution_count": null,
      "metadata": {
        "id": "5cp4k6W7FYCJ"
      },
      "outputs": [],
      "source": [
        "df.sample()"
      ]
    },
    {
      "cell_type": "code",
      "execution_count": null,
      "metadata": {
        "id": "Bpr6-bdaFZ9p"
      },
      "outputs": [],
      "source": [
        "df['Cpu']=df['Cpu'].apply(lambda x:\" \".join(x.split()[0:3]))"
      ]
    },
    {
      "cell_type": "code",
      "execution_count": null,
      "metadata": {
        "id": "3VaSu3zFHXM3"
      },
      "outputs": [],
      "source": [
        "print(df['Cpu'].value_counts())"
      ]
    },
    {
      "cell_type": "code",
      "execution_count": null,
      "metadata": {
        "id": "9e9eygf7Hd4o"
      },
      "outputs": [],
      "source": [
        "def fetch_processor_name(proc):\n",
        "    if proc.split()[0]=='Intel':\n",
        "        if proc.split()[1]=='Core':\n",
        "            return proc\n",
        "        else:\n",
        "            return \" \".join(proc.split()[0:2])\n",
        "    else:\n",
        "        if proc[4]==\"E\":\n",
        "            return \"AMD E-Series\"\n",
        "        elif proc[4]==\"R\":\n",
        "            return \"AMD Ryzen Series\"\n",
        "        elif proc[4]==\"A\":\n",
        "            return \"AMD A-Series\"\n",
        "        else:\n",
        "            return \"AMD FX Series\"\n"
      ]
    },
    {
      "cell_type": "code",
      "execution_count": null,
      "metadata": {
        "id": "Z8OWi8BvJ4dG"
      },
      "outputs": [],
      "source": [
        "df['Cpu']=df['Cpu'].apply(fetch_processor_name)"
      ]
    },
    {
      "cell_type": "code",
      "execution_count": null,
      "metadata": {
        "id": "UJoxwPb1J_u1"
      },
      "outputs": [],
      "source": [
        "print(df['Cpu'].value_counts())"
      ]
    },
    {
      "cell_type": "code",
      "execution_count": null,
      "metadata": {
        "id": "MJf1IUqaKQVC"
      },
      "outputs": [],
      "source": [
        "df['Cpu'].value_counts().plot(kind='bar')"
      ]
    },
    {
      "cell_type": "code",
      "execution_count": null,
      "metadata": {
        "id": "JkyTTGr8P-tO"
      },
      "outputs": [],
      "source": [
        "sorted_cpulist=df.groupby('Cpu')['Price'].mean().sort_values(ascending=False).index\n",
        "sorted_cpulist"
      ]
    },
    {
      "cell_type": "code",
      "execution_count": null,
      "metadata": {
        "id": "kWS-nelBOm--"
      },
      "outputs": [],
      "source": [
        "sns.barplot(x=df['Cpu'],y=df['Price'],errorbar=None,order=sorted_cpulist,\n",
        "            palette='Greens',hue=df['Cpu'],hue_order=sorted_cpulist[::-1])\n",
        "plt.xticks(rotation=90)\n",
        "plt.show()"
      ]
    },
    {
      "cell_type": "code",
      "execution_count": null,
      "metadata": {
        "id": "0GUADTRvOuzy"
      },
      "outputs": [],
      "source": [
        "df['Ram']=df['Ram'].apply(lambda x:x.replace(\"GB\",\"\")).astype('int')\n",
        "df['Weight']=df['Weight'].apply(lambda x:x.replace(\"kg\",\"\")).astype('float')"
      ]
    },
    {
      "cell_type": "code",
      "execution_count": null,
      "metadata": {
        "id": "ZL7oojXUSJQq"
      },
      "outputs": [],
      "source": [
        "df.sample(3)"
      ]
    },
    {
      "cell_type": "code",
      "execution_count": null,
      "metadata": {
        "id": "QBy4Jo9nSLkH"
      },
      "outputs": [],
      "source": [
        "df['Ram'].value_counts().plot(kind='bar')"
      ]
    },
    {
      "cell_type": "code",
      "execution_count": null,
      "metadata": {
        "id": "eJ7BpXTuSTcy"
      },
      "outputs": [],
      "source": [
        "sns.barplot(x=df['Ram'],y=df['Price'],errorbar=None,hue=df['Ram'],palette='Greens')"
      ]
    },
    {
      "cell_type": "code",
      "execution_count": null,
      "metadata": {
        "id": "FQIQgsqhScCO"
      },
      "outputs": [],
      "source": [
        "print(df['Gpu'].value_counts())"
      ]
    },
    {
      "cell_type": "code",
      "execution_count": null,
      "metadata": {
        "id": "ePPVewsDS5Vz"
      },
      "outputs": [],
      "source": [
        "df['Gpu']=df['Gpu'].apply(lambda x:\" \".join(x.split()[0:2]))"
      ]
    },
    {
      "cell_type": "code",
      "execution_count": null,
      "metadata": {
        "id": "n79sYcPOTjkL"
      },
      "outputs": [],
      "source": [
        "print(df['Gpu'].value_counts())"
      ]
    },
    {
      "cell_type": "code",
      "execution_count": null,
      "metadata": {
        "id": "Xie2C02XT3ge"
      },
      "outputs": [],
      "source": [
        "def fetch_gpu_name(text):\n",
        "    if text.split()[0]=='AMD':\n",
        "        return \"AMD GPU\"\n",
        "    elif text==\"Intel Graphics\":\n",
        "        return \"Intel HD\"\n",
        "    elif text==\"Nvidia GTX\":\n",
        "        return \"Nvidia GeForce\"\n",
        "    else:\n",
        "        return text"
      ]
    },
    {
      "cell_type": "code",
      "execution_count": null,
      "metadata": {
        "id": "VqBx8BVtWHu7"
      },
      "outputs": [],
      "source": [
        "df['Gpu']=df['Gpu'].apply(fetch_gpu_name)"
      ]
    },
    {
      "cell_type": "code",
      "execution_count": null,
      "metadata": {
        "id": "qbis8tvjWQKO"
      },
      "outputs": [],
      "source": [
        "print(df['Gpu'].value_counts())"
      ]
    },
    {
      "cell_type": "code",
      "execution_count": null,
      "metadata": {
        "id": "PcllDlGGWR6Y"
      },
      "outputs": [],
      "source": [
        "df['Gpu'].value_counts().plot(kind='bar')"
      ]
    },
    {
      "cell_type": "code",
      "execution_count": null,
      "metadata": {
        "id": "HserFQktWe1b"
      },
      "outputs": [],
      "source": [
        "sorted_gpulist=df.groupby('Gpu')['Price'].mean().sort_values(ascending=False).index\n",
        "sorted_gpulist"
      ]
    },
    {
      "cell_type": "code",
      "execution_count": null,
      "metadata": {
        "id": "l6GfnK_yWU4L"
      },
      "outputs": [],
      "source": [
        "sns.barplot(x=df['Gpu'],y=df['Price'],errorbar=None,order=sorted_gpulist,hue=df['Gpu'],palette='Greens',hue_order=sorted_gpulist[::-1])\n",
        "plt.xticks(rotation=90)"
      ]
    },
    {
      "cell_type": "code",
      "execution_count": null,
      "metadata": {
        "id": "1PDTZJ5-XE60"
      },
      "outputs": [],
      "source": [
        "df.sample()"
      ]
    },
    {
      "cell_type": "code",
      "execution_count": null,
      "metadata": {
        "id": "7fJ9BG3ZcaRw"
      },
      "outputs": [],
      "source": [
        "print(df['OpSys'].value_counts())"
      ]
    },
    {
      "cell_type": "code",
      "execution_count": null,
      "metadata": {
        "id": "BSwj9bMVcfKT"
      },
      "outputs": [],
      "source": [
        "def fetch_os_name(os):\n",
        "    if os==\"Windows 10 S\":\n",
        "        return \"Windows 10\"\n",
        "    elif os==\"macOS\" or os==\"Mac OS X\":\n",
        "        return \"MacOS\"\n",
        "    elif os==\"Android\" or os==\"Chrome OS\" or os==\"Linux\":\n",
        "        return \"Linux/Chrome OS/Others\"\n",
        "    else:\n",
        "        return os"
      ]
    },
    {
      "cell_type": "code",
      "execution_count": null,
      "metadata": {
        "id": "3Ue4UEuIdTbl"
      },
      "outputs": [],
      "source": [
        "df['OpSys']=df['OpSys'].apply(fetch_os_name)"
      ]
    },
    {
      "cell_type": "code",
      "execution_count": null,
      "metadata": {
        "id": "IPNZ_zxVd0hX"
      },
      "outputs": [],
      "source": [
        "print(df['OpSys'].value_counts())"
      ]
    },
    {
      "cell_type": "code",
      "execution_count": null,
      "metadata": {
        "id": "mlsV25DQd3RO"
      },
      "outputs": [],
      "source": [
        "sorted_oslist=df.groupby('OpSys')['Price'].mean().sort_values(ascending=False).index\n",
        "sorted_oslist"
      ]
    },
    {
      "cell_type": "code",
      "execution_count": null,
      "metadata": {
        "id": "TIblKzMUd-qS"
      },
      "outputs": [],
      "source": [
        "sns.barplot(x=df['OpSys'],y=df['Price'],errorbar=None,order=sorted_oslist,hue=df['OpSys'],palette='Greens',hue_order=sorted_oslist[::-1])\n",
        "plt.xticks(rotation=90)\n",
        "plt.show()"
      ]
    },
    {
      "cell_type": "code",
      "execution_count": null,
      "metadata": {
        "id": "VxddQK1SeELt"
      },
      "outputs": [],
      "source": [
        "print(df['Memory'].value_counts())"
      ]
    },
    {
      "cell_type": "code",
      "execution_count": null,
      "metadata": {
        "id": "iraMrpu5ebs3"
      },
      "outputs": [],
      "source": [
        "# SSD\n",
        "# HDD\n",
        "# SSD + HDD\n",
        "# Flash Storage\n",
        "# Hybrid\n",
        "# SSD + SSD\n",
        "# Flash Storage + SSD\n",
        "# HDD + HDD\n",
        "# SSD + Hybrid\n",
        "\n",
        "# SSD  HDD  FlashStorage  Hybrid\n",
        "# Regex (regular expression)"
      ]
    },
    {
      "cell_type": "code",
      "source": [
        "df['Memory']=df['Memory'].astype(str).replace(r\"\\.0\",\"\",regex=True)"
      ],
      "metadata": {
        "id": "G-8Y6ZOXT1tN"
      },
      "execution_count": null,
      "outputs": []
    },
    {
      "cell_type": "code",
      "source": [
        "print(df['Memory'].value_counts())"
      ],
      "metadata": {
        "id": "8O2Ugeq-T3eQ"
      },
      "execution_count": null,
      "outputs": []
    },
    {
      "cell_type": "code",
      "source": [
        "df['Memory']=df['Memory'].str.replace(\"GB\",\"\")\n",
        "df['Memory']=df['Memory'].str.replace(\"TB\",\"000\")"
      ],
      "metadata": {
        "id": "6N3nbTnqUV5s"
      },
      "execution_count": null,
      "outputs": []
    },
    {
      "cell_type": "code",
      "source": [
        "print(df['Memory'].value_counts())"
      ],
      "metadata": {
        "id": "oXHMhJtEUYaB"
      },
      "execution_count": null,
      "outputs": []
    },
    {
      "cell_type": "code",
      "source": [
        "new=df['Memory'].str.split('+',expand=True)\n",
        "df['first']=new[0]\n",
        "df['first']=df['first'].str.strip()\n",
        "df['second']=new[1]"
      ],
      "metadata": {
        "id": "1Zyv0EfQUhiQ"
      },
      "execution_count": null,
      "outputs": []
    },
    {
      "cell_type": "code",
      "source": [
        "df.sample(3)"
      ],
      "metadata": {
        "id": "ogZ01KD7UjQE"
      },
      "execution_count": null,
      "outputs": []
    },
    {
      "cell_type": "code",
      "source": [
        "df['Layer1HDD']=df['first'].apply(lambda x:1 if \"HDD\" in x else 0)\n",
        "df['Layer1SSD']=df['first'].apply(lambda x:1 if \"SSD\" in x else 0)\n",
        "df['Layer1Hybrid']=df['first'].apply(lambda x:1 if \"Hybrid\" in x else 0)\n",
        "df['Layer1Flash_Storage']=df['first'].apply(lambda x:1 if \"Flash\" in x else 0)"
      ],
      "metadata": {
        "id": "pLNa_Q-yUnLb"
      },
      "execution_count": null,
      "outputs": []
    },
    {
      "cell_type": "code",
      "source": [
        "df.sample(3)"
      ],
      "metadata": {
        "id": "o2KBjHDcUsa5"
      },
      "execution_count": null,
      "outputs": []
    },
    {
      "cell_type": "code",
      "source": [
        "df['first']=df['first'].str.replace(r\"\\D\",\"\",regex=True)\n",
        "# \\D: any character which is not a digit\n",
        "# \\d: any character which is a digit"
      ],
      "metadata": {
        "id": "AU46mOtWUwSx"
      },
      "execution_count": null,
      "outputs": []
    },
    {
      "cell_type": "code",
      "source": [
        "df['second'].fillna(\"0\",inplace=True)\n",
        "df['second']=df['second'].str.strip()\n",
        "df['Layer2HDD']=df['second'].apply(lambda x:1 if \"HDD\" in x else 0)\n",
        "df['Layer2SSD']=df['second'].apply(lambda x:1 if \"SSD\" in x else 0)\n",
        "df['Layer2Hybrid']=df['second'].apply(lambda x:1 if \"Hybrid\" in x else 0)\n",
        "df['Layer2Flash_Storage']=df['second'].apply(lambda x:1 if \"Flash\" in x else 0)\n",
        "df['second']=df['second'].str.replace(r\"\\D\",\"\",regex=True)"
      ],
      "metadata": {
        "id": "pdf63MtMU0aK"
      },
      "execution_count": null,
      "outputs": []
    },
    {
      "cell_type": "code",
      "source": [
        "df.sample()"
      ],
      "metadata": {
        "id": "SC7APeBIU9we"
      },
      "execution_count": null,
      "outputs": []
    },
    {
      "cell_type": "code",
      "source": [
        "df['first']=df['first'].astype('int')\n",
        "df['second']=df['second'].astype('int')"
      ],
      "metadata": {
        "id": "bHXw9p3uU_bA"
      },
      "execution_count": null,
      "outputs": []
    },
    {
      "cell_type": "code",
      "source": [
        "df['HDD']=df['first']*df['Layer1HDD']+df['second']*df['Layer2HDD']\n",
        "df['SSD']=df['first']*df['Layer1SSD']+df['second']*df['Layer2SSD']\n",
        "df['Hybrid']=df['first']*df['Layer1Hybrid']+df['second']*df['Layer2Hybrid']\n",
        "df['Flash_Storage']=df['first']*df['Layer1Flash_Storage']+df['second']*df['Layer2Flash_Storage']"
      ],
      "metadata": {
        "id": "AZmqqKp3VERZ"
      },
      "execution_count": null,
      "outputs": []
    },
    {
      "cell_type": "code",
      "source": [
        "df.columns"
      ],
      "metadata": {
        "id": "wFkODgVsVJgI"
      },
      "execution_count": null,
      "outputs": []
    },
    {
      "cell_type": "code",
      "source": [
        "df.drop(columns=['first', 'second', 'Layer1HDD', 'Layer1SSD', 'Layer1Hybrid',\n",
        "       'Layer1Flash_Storage', 'Layer2HDD', 'Layer2SSD', 'Layer2Hybrid',\n",
        "       'Layer2Flash_Storage'],inplace=True)"
      ],
      "metadata": {
        "id": "-MvvvN0SVJIH"
      },
      "execution_count": null,
      "outputs": []
    },
    {
      "cell_type": "code",
      "source": [
        "df.sample(10)"
      ],
      "metadata": {
        "id": "w-8KHc2HVRL4"
      },
      "execution_count": null,
      "outputs": []
    },
    {
      "cell_type": "code",
      "source": [
        "df.drop(columns=['Memory'],inplace=True)"
      ],
      "metadata": {
        "id": "p7B50yhgVV4Z"
      },
      "execution_count": null,
      "outputs": []
    },
    {
      "cell_type": "code",
      "source": [
        "df.info()"
      ],
      "metadata": {
        "id": "Rj7Uy6rMVbQE"
      },
      "execution_count": null,
      "outputs": []
    },
    {
      "cell_type": "code",
      "source": [
        "df.corr(numeric_only=True)"
      ],
      "metadata": {
        "id": "CDtsxhl-VfTe"
      },
      "execution_count": null,
      "outputs": []
    },
    {
      "cell_type": "code",
      "source": [
        "sns.heatmap(df.corr(numeric_only=True),cmap='summer')"
      ],
      "metadata": {
        "id": "onbEjO30Vjd9"
      },
      "execution_count": null,
      "outputs": []
    },
    {
      "cell_type": "code",
      "source": [
        "df.corr(numeric_only=True)['Price']"
      ],
      "metadata": {
        "id": "LXIQHhSfVna4"
      },
      "execution_count": null,
      "outputs": []
    },
    {
      "cell_type": "code",
      "source": [
        "df.drop(columns=['Hybrid','Flash_Storage'],inplace=True)"
      ],
      "metadata": {
        "id": "N7XrKEMLVrWB"
      },
      "execution_count": null,
      "outputs": []
    },
    {
      "cell_type": "code",
      "source": [
        "# screen size       : Inches\n",
        "# screen resolution : X_res, Y_res\n",
        "# resolution: number of pixels on the screen\n",
        "# pixel density"
      ],
      "metadata": {
        "id": "la8MQeSCVvpQ"
      },
      "execution_count": null,
      "outputs": []
    },
    {
      "cell_type": "code",
      "source": [
        "df['ppi']=round((df['X_res']**2+df['Y_res']**2)**0.5/df['Inches'],2)"
      ],
      "metadata": {
        "id": "IGWgim-vVzX-"
      },
      "execution_count": null,
      "outputs": []
    },
    {
      "cell_type": "code",
      "source": [
        "df.corr(numeric_only=True)['Price']"
      ],
      "metadata": {
        "id": "Mbr71aigV3XR"
      },
      "execution_count": null,
      "outputs": []
    },
    {
      "cell_type": "code",
      "source": [
        "df.drop(columns=['X_res','Y_res','Inches'],inplace=True)"
      ],
      "metadata": {
        "id": "vHUoz6CnV7V2"
      },
      "execution_count": null,
      "outputs": []
    },
    {
      "cell_type": "code",
      "source": [
        "df.sample()"
      ],
      "metadata": {
        "id": "hI_mAhRAV_kA"
      },
      "execution_count": null,
      "outputs": []
    },
    {
      "cell_type": "code",
      "source": [
        "sns.boxplot(x=df['Price'])"
      ],
      "metadata": {
        "id": "k_8AxyAUWC9M"
      },
      "execution_count": null,
      "outputs": []
    },
    {
      "cell_type": "code",
      "source": [
        "sns.kdeplot(df[df['Price']<280000]['Price'])"
      ],
      "metadata": {
        "id": "HqsbR9c0WIXR"
      },
      "execution_count": null,
      "outputs": []
    },
    {
      "cell_type": "code",
      "source": [
        "X=df.drop(columns=['Price'])\n",
        "y=df['Price']"
      ],
      "metadata": {
        "id": "QYWHB7zKWMTV"
      },
      "execution_count": null,
      "outputs": []
    },
    {
      "cell_type": "code",
      "source": [
        "from sklearn.model_selection import train_test_split\n",
        "X_train,X_test,y_train,y_test=train_test_split(X,y,test_size=0.15,random_state=42)"
      ],
      "metadata": {
        "id": "kk03FKHqWRqO"
      },
      "execution_count": null,
      "outputs": []
    },
    {
      "cell_type": "code",
      "source": [
        "X.shape,X_train.shape,X_test.shape"
      ],
      "metadata": {
        "id": "Wq1mkkTlWV9i"
      },
      "execution_count": null,
      "outputs": []
    },
    {
      "cell_type": "code",
      "execution_count": null,
      "metadata": {
        "id": "bDuvDMuYfTfu"
      },
      "outputs": [],
      "source": [
        "# Session 76 CASE STUDY 12/09/2025"
      ]
    },
    {
      "cell_type": "code",
      "source": [
        "df.sample()"
      ],
      "metadata": {
        "id": "6fkL-pw1RvfO"
      },
      "execution_count": null,
      "outputs": []
    },
    {
      "cell_type": "code",
      "source": [
        "from sklearn.preprocessing import OneHotEncoder, StandardScaler\n",
        "from sklearn.compose import ColumnTransformer\n",
        "from sklearn.pipeline import Pipeline\n",
        "from sklearn.metrics import r2_score,mean_absolute_error, root_mean_squared_error\n",
        "from sklearn.linear_model import LinearRegression\n",
        "from sklearn.linear_model import Ridge\n",
        "from sklearn.linear_model import Lasso\n",
        "from sklearn.tree import DecisionTreeRegressor\n",
        "from sklearn.svm import SVR\n",
        "from sklearn.neighbors import KNeighborsRegressor\n",
        "from sklearn.ensemble import RandomForestRegressor, GradientBoostingRegressor, AdaBoostRegressor\n",
        "from xgboost import XGBRegressor"
      ],
      "metadata": {
        "id": "4ZFX0kKpSUtJ"
      },
      "execution_count": null,
      "outputs": []
    },
    {
      "cell_type": "code",
      "source": [
        "# Encoding : process of converting text data to numerical data\n",
        "# Label Encoding (output labels)\n",
        "    # LabelEncoder\n",
        "# Feature Encoding (input features)\n",
        "    # Ordinal Encoding  : Very Good(2), Poor(0), Excellent(3), Satisfactory(1)\n",
        "        # OrdinalEncoder\n",
        "    # Nominal Encoding  : Man/Woman , Apple/Acer/Dell/HP\n",
        "        # OneHotEncoder"
      ],
      "metadata": {
        "id": "Z4PoKq9HWk_Y"
      },
      "execution_count": null,
      "outputs": []
    },
    {
      "cell_type": "code",
      "source": [
        "# Company     Company_HP  Company_Ap\n",
        "# Apple            0           1\n",
        "# Apple            0           1\n",
        "# HP               1           0\n",
        "# Apple            0           1\n",
        "# Dell             0           0\n",
        "# HP               1           0\n",
        "# Dell             0           0\n",
        "# Apple            0           1"
      ],
      "metadata": {
        "id": "_4xZOZ37Wmrs"
      },
      "execution_count": null,
      "outputs": []
    },
    {
      "cell_type": "code",
      "source": [
        "# Linear Regression\n",
        "ct_ohe= ColumnTransformer(transformers=[('col_tnf',OneHotEncoder(drop='first',sparse_output=True),[0,1,2,4,5])],remainder='passthrough')\n",
        "reg_model= LinearRegression()\n",
        "pipe=Pipeline([('s1',ct_ohe),('s2',reg_model)])\n",
        "\n",
        "pipe.fit(X_train,y_train)\n",
        "y_pred=pipe.predict(X_test)\n",
        "print(\"R2 score:\",r2_score(y_test,y_pred))\n",
        "print(\"MAE:\",mean_absolute_error(y_test,y_pred))\n",
        "print(\"RMSE:\",root_mean_squared_error(y_test,y_pred))"
      ],
      "metadata": {
        "id": "LNHQ18QlSoXA"
      },
      "execution_count": null,
      "outputs": []
    },
    {
      "cell_type": "code",
      "source": [
        "# Regularization Techniques\n",
        "    # -Lasso()\n",
        "    # -Ridge()"
      ],
      "metadata": {
        "id": "j-XUSQLuWxU_"
      },
      "execution_count": null,
      "outputs": []
    },
    {
      "cell_type": "code",
      "source": [
        "X_train.sample()"
      ],
      "metadata": {
        "id": "EeSq0J2vnvAE"
      },
      "execution_count": null,
      "outputs": []
    },
    {
      "cell_type": "code",
      "source": [
        "# y = m + c\n",
        "# y = m1x1 + m2x2 + m3x3... + c\n",
        "# price = b1.RAM + b2.weight + b3.cpu + b4.cpu_speed + ...... + b0"
      ],
      "metadata": {
        "id": "HOZ2t4WvoIIn"
      },
      "execution_count": null,
      "outputs": []
    },
    {
      "cell_type": "code",
      "source": [
        "# query = np.array([[\"Dell\",\"Notebook\",\"Intel Core i5\",16,\"Intel HD\",\"Windows 10\",2.0,0,0,2.2,0,512,141.2]])\n",
        "# pipe.predict(query)"
      ],
      "metadata": {
        "id": "u1tGf-NfmSWd"
      },
      "execution_count": null,
      "outputs": []
    },
    {
      "cell_type": "code",
      "source": [
        "# Due to ------\n",
        "    # Multi-collinearity\n",
        "    # Overfitting"
      ],
      "metadata": {
        "id": "JPMULaDwnpQc"
      },
      "execution_count": null,
      "outputs": []
    },
    {
      "cell_type": "code",
      "source": [
        "# Ridge Regression  :  L2 Regularization  :  penalty  :  square of coefficient\n",
        "ct_ohe= ColumnTransformer(transformers=[('col_tnf',OneHotEncoder(drop='first'),[0,1,2,4,5])],remainder='passthrough')\n",
        "reg_model= Ridge(alpha=1)\n",
        "pipe=Pipeline([('s1',ct_ohe),('s2',reg_model)])\n",
        "\n",
        "pipe.fit(X_train,y_train)\n",
        "y_pred=pipe.predict(X_test)\n",
        "print(\"R2 score:\",r2_score(y_test,y_pred))\n",
        "print(\"MAE:\",mean_absolute_error(y_test,y_pred))\n",
        "print(\"RMSE:\",root_mean_squared_error(y_test,y_pred))"
      ],
      "metadata": {
        "id": "gFLY2qydhJI2"
      },
      "execution_count": null,
      "outputs": []
    },
    {
      "cell_type": "code",
      "source": [
        "# Session 77 CASE STUDY 13/09/2025"
      ],
      "metadata": {
        "id": "g6D1rRn_mQiu"
      },
      "execution_count": null,
      "outputs": []
    },
    {
      "cell_type": "code",
      "source": [
        "# Lasso  :  L1 Regularizarion : penalty : absolute value of coefficients\n",
        "# internal automatic feature selection\n",
        "\n",
        "# When is Lasso useful?\n",
        "    # -When you have many features and you think not all are useful\n",
        "    # -you suspect some features are not important\n",
        "    # -you want a simpler model\n",
        "\n",
        "# Lasso is very sensitive to feature scaling\n",
        "# if your features are on very different scales, it is a good idea to normalize or standardize them\n",
        "# we will standardize numeric feature using standardscaler."
      ],
      "metadata": {
        "id": "lgL6mFpHbOof"
      },
      "execution_count": null,
      "outputs": []
    },
    {
      "cell_type": "code",
      "source": [
        "# Lasso Regression\n",
        "categorical_features = [0,1,2,4,5]\n",
        "numerical_features = [3,6,7,8,9,10,11,12]\n",
        "preprocessor= ColumnTransformer(transformers=[('cat',OneHotEncoder(drop='first'),categorical_features),\n",
        "                                        'num', StandardScaler(),numerical_features])\n",
        "reg_model= Lasso(alpha=0.01, max_iter=100000)\n",
        "pipe=Pipeline([('s1',ct_ohe),('s2',reg_model)])\n",
        "\n",
        "pipe.fit(X_train,y_train)\n",
        "y_pred=pipe.predict(X_test)\n",
        "print(\"R2 score:\",r2_score(y_test,y_pred))\n",
        "print(\"MAE:\",mean_absolute_error(y_test,y_pred))\n",
        "print(\"RMSE:\",root_mean_squared_error(y_test,y_pred))"
      ],
      "metadata": {
        "id": "1uVTOGgwbrj1"
      },
      "execution_count": null,
      "outputs": []
    },
    {
      "cell_type": "code",
      "source": [
        "X_train.sample()"
      ],
      "metadata": {
        "id": "WFZmpxEPeE4a"
      },
      "execution_count": null,
      "outputs": []
    },
    {
      "cell_type": "code",
      "source": [
        "# Decision Tree Regression\n",
        "ct_ohe= ColumnTransformer(transformers=[('col_tnf',OneHotEncoder(drop='first'),[0,1,2,4,5])],remainder='passthrough')\n",
        "reg_model= DecisionTreeRegressor(max_depth=10)\n",
        "pipe=Pipeline([('s1',ct_ohe),('s2',reg_model)])\n",
        "\n",
        "pipe.fit(X_train,y_train)\n",
        "y_pred=pipe.predict(X_test)\n",
        "print(\"R2 score:\",r2_score(y_test,y_pred))\n",
        "print(\"MAE:\",mean_absolute_error(y_test,y_pred))\n",
        "print(\"RMSE:\",root_mean_squared_error(y_test,y_pred))"
      ],
      "metadata": {
        "id": "vTM6jikBhhpC"
      },
      "execution_count": null,
      "outputs": []
    },
    {
      "cell_type": "code",
      "source": [
        "# KNN (KNeighborsRegressor)\n",
        "ct_ohe= ColumnTransformer(transformers=[('col_tnf',OneHotEncoder(drop='first'),[0,1,2,4,5])],remainder='passthrough')\n",
        "reg_model= KNeighborsRegressor(n_neighbors=10)\n",
        "pipe=Pipeline([('s1',ct_ohe),('s2',reg_model)])\n",
        "\n",
        "pipe.fit(X_train,y_train)\n",
        "y_pred=pipe.predict(X_test)\n",
        "print(\"R2 score:\",r2_score(y_test,y_pred))\n",
        "print(\"MAE:\",mean_absolute_error(y_test,y_pred))\n",
        "print(\"RMSE:\",root_mean_squared_error(y_test,y_pred))"
      ],
      "metadata": {
        "id": "wEmZS4RJjD-j"
      },
      "execution_count": null,
      "outputs": []
    },
    {
      "cell_type": "code",
      "source": [
        "# SVR (Support Vector Regressor)\n",
        "categorical_features = [0,1,2,4,5]\n",
        "numerical_features = [3,6,7,8,9,10,11,12]\n",
        "preprocessor= ColumnTransformer(transformers=[('cat',OneHotEncoder(drop='first'),categorical_features),\n",
        "                                        'num', StandardScaler(),numerical_features])\n",
        "reg_model= SVR(C=10000000)\n",
        "pipe=Pipeline([('s1',ct_ohe),('s2',reg_model)])\n",
        "\n",
        "pipe.fit(X_train,y_train)\n",
        "y_pred=pipe.predict(X_test)\n",
        "print(\"R2 score:\",r2_score(y_test,y_pred))\n",
        "print(\"MAE:\",mean_absolute_error(y_test,y_pred))\n",
        "print(\"RMSE:\",root_mean_squared_error(y_test,y_pred))"
      ],
      "metadata": {
        "id": "5Fbappr_lml_"
      },
      "execution_count": null,
      "outputs": []
    },
    {
      "cell_type": "code",
      "source": [
        "# Session : 78 CASE STUDY 14/09/2025"
      ],
      "metadata": {
        "id": "6-pod5_UjKak"
      },
      "execution_count": null,
      "outputs": []
    },
    {
      "cell_type": "code",
      "source": [
        "# Ensemble : combination of multiple algorithms\n",
        "# Crowd always knows the best answer\n",
        "# Instead of relying on one model why not to combine multiple models and look for good accuracy\n",
        "\n",
        "# Homogenous ensemble : algorithms for all models in ensemble are same\n",
        "# Heterogenous ensemble : algorithms are different"
      ],
      "metadata": {
        "id": "sQ-dvwNfly-g"
      },
      "execution_count": null,
      "outputs": []
    },
    {
      "cell_type": "code",
      "source": [
        "# Types of Ensemble Models\n",
        "    # Voting\n",
        "    # Stacking\n",
        "    # Bagging : combination of Bootstrap + Aggregation (Homogenous ensemble)\n",
        "        # Bootstap is a resampling technique of several data of same dataset\n",
        "        # Random Forest (bagging algorithm) : base estimator is always Decision Tree.\n",
        "    # boosting : very powerful\n",
        "                # sometimes overfit\n",
        "\n",
        "# Stacking : we trained 3 model\n",
        "            # 1 0 1 = 1\n",
        "\n",
        "            # 4th one will be stacker\n",
        "# Bootstrap : 10000 rows of data\n",
        "            # 3000 random rows for sample 1 Model 1\n",
        "\n",
        "            # 10000\n",
        "            # 3000 next sample for Model 2\n",
        "\n",
        "            # 10000\n",
        "            # 3000 next sample\n",
        "# Boosting : 1st model makes mistakes 2nd model works on 1st model mistake\n",
        "            # and mkaes 3rd model which works on mistakes of 2nd model and so on...\n"
      ],
      "metadata": {
        "id": "NliVrgdtkka2"
      },
      "execution_count": null,
      "outputs": []
    },
    {
      "cell_type": "code",
      "source": [
        "# AdaBoost\n",
        "    # Adaptive Boosting\n",
        "    #"
      ],
      "metadata": {
        "id": "c3K6x35NoeD2"
      },
      "execution_count": null,
      "outputs": []
    },
    {
      "cell_type": "code",
      "source": [
        "# Adaboost\n",
        "ct_ohe= ColumnTransformer(transformers=[('col_tnf',OneHotEncoder(drop='first'),[0,1,2,4,5])],remainder='passthrough')\n",
        "reg_model= AdaBoostRegressor(n_estimators=100,random_state=42,learning_rate=0.1)\n",
        "pipe=Pipeline([('s1',ct_ohe),('s2',reg_model)])\n",
        "\n",
        "pipe.fit(X_train,y_train)\n",
        "y_pred=pipe.predict(X_test)\n",
        "print(\"R2 score:\",r2_score(y_test,y_pred))\n",
        "print(\"MAE:\",mean_absolute_error(y_test,y_pred))\n",
        "print(\"RMSE:\",root_mean_squared_error(y_test,y_pred))"
      ],
      "metadata": {
        "id": "ekbk4pe6xZEw"
      },
      "execution_count": null,
      "outputs": []
    },
    {
      "cell_type": "code",
      "source": [
        "# Random Forest : takes trees and make decisions\n",
        "                # reduce overfitting\n",
        "            # 2 sources of randomness\n",
        "                # -Bootstrap sampling\n",
        "                # -Random feature selection"
      ],
      "metadata": {
        "id": "i9ik7qP1x2Ai"
      },
      "execution_count": null,
      "outputs": []
    },
    {
      "cell_type": "code",
      "source": [
        "# Random Forest Regressor\n",
        "ct_ohe= ColumnTransformer(transformers=[('col_tnf',OneHotEncoder(drop='first'),[0,1,2,4,5])],remainder='passthrough')\n",
        "reg_model= RandomForestRegressor()\n",
        "pipe=Pipeline([('s1',ct_ohe),('s2',reg_model)])\n",
        "\n",
        "pipe.fit(X_train,y_train)\n",
        "y_pred=pipe.predict(X_test)\n",
        "print(\"R2 score:\",r2_score(y_test,y_pred))\n",
        "print(\"MAE:\",mean_absolute_error(y_test,y_pred))\n",
        "print(\"RMSE:\",root_mean_squared_error(y_test,y_pred))"
      ],
      "metadata": {
        "id": "TBMp5lQ13KVT"
      },
      "execution_count": null,
      "outputs": []
    },
    {
      "cell_type": "code",
      "source": [
        "# Random Forest with scaler\n",
        "categorical_features = [0,1,2,4,5]\n",
        "numerical_features = [3,6,7,8,9,10,11,12]\n",
        "preprocessor= ColumnTransformer(transformers=[('cat',OneHotEncoder(drop='first'),categorical_features),\n",
        "                                        'num', StandardScaler(),numerical_features])\n",
        "reg_model= RandomForestRegressor(random_state=20,n_estimators=30,max_depth=12)\n",
        "pipe=Pipeline([('s1',ct_ohe),('s2',reg_model)])\n",
        "\n",
        "pipe.fit(X_train,y_train)\n",
        "y_pred=pipe.predict(X_test)\n",
        "print(\"R2 score:\",r2_score(y_test,y_pred))\n",
        "print(\"MAE:\",mean_absolute_error(y_test,y_pred))\n",
        "print(\"RMSE:\",root_mean_squared_error(y_test,y_pred))"
      ],
      "metadata": {
        "id": "lIQbAHUY4ShE"
      },
      "execution_count": null,
      "outputs": []
    },
    {
      "cell_type": "code",
      "source": [
        "# Gradient Boosting\n",
        "    # Gradient Descent"
      ],
      "metadata": {
        "id": "UijDZNAn4pgR"
      },
      "execution_count": null,
      "outputs": []
    },
    {
      "cell_type": "code",
      "source": [
        "# GradientBoosting Regression\n",
        "categorical_features = [0,1,2,4,5]\n",
        "numerical_features = [3,6,7,8,9,10,11,12]\n",
        "preprocessor= ColumnTransformer(transformers=[('cat',OneHotEncoder(drop='first'),categorical_features),\n",
        "                                        'num', StandardScaler(),numerical_features])\n",
        "reg_model= GradientBoostingRegressor(random_state=15,n_estimators=500, learning_rate=0.1, max_depth=2)\n",
        "pipe=Pipeline([('s1',ct_ohe),('s2',reg_model)])\n",
        "\n",
        "pipe.fit(X_train,y_train)\n",
        "y_pred=pipe.predict(X_test)\n",
        "print(\"R2 score:\",r2_score(y_test,y_pred))\n",
        "print(\"MAE:\",mean_absolute_error(y_test,y_pred))\n",
        "print(\"RMSE:\",root_mean_squared_error(y_test,y_pred))"
      ],
      "metadata": {
        "id": "BYyCWD6i7V_R"
      },
      "execution_count": null,
      "outputs": []
    },
    {
      "cell_type": "code",
      "source": [
        "# Session : 80 CASE STUDY 19/09/2025"
      ],
      "metadata": {
        "id": "E6AY1wyt7hjQ"
      },
      "execution_count": null,
      "outputs": []
    },
    {
      "cell_type": "code",
      "source": [
        "# XGBoost"
      ],
      "metadata": {
        "id": "VxD8Eu_LXtyM"
      },
      "execution_count": null,
      "outputs": []
    },
    {
      "cell_type": "code",
      "source": [
        "# XGBoostRegressor\n",
        "categorical_features = [0,1,2,4,5]\n",
        "numerical_features = [3,6,7,8,9,10,11,12]\n",
        "preprocessor= ColumnTransformer(transformers=[('cat',OneHotEncoder(drop='first'),categorical_features),\n",
        "                                        'num', StandardScaler(),numerical_features])\n",
        "reg_model= XGBRegressor(random_state=15,n_estimators=500, learning_rate=0.1,\n",
        "                        max_depth=2,reg_lambda=1,reg_alpha=0.5, subsample=0.8)\n",
        "pipe=Pipeline([('s1',ct_ohe),('s2',reg_model)])\n",
        "\n",
        "pipe.fit(X_train,y_train)\n",
        "y_pred=pipe.predict(X_test)\n",
        "print(\"R2 score:\",r2_score(y_test,y_pred))\n",
        "print(\"MAE:\",mean_absolute_error(y_test,y_pred))\n",
        "print(\"RMSE:\",root_mean_squared_error(y_test,y_pred))"
      ],
      "metadata": {
        "id": "W6ezKKL6TUqK"
      },
      "execution_count": null,
      "outputs": []
    },
    {
      "cell_type": "code",
      "source": [
        "# Grid Search CV\n",
        "from sklearn.model_selection import GridSearchCV"
      ],
      "metadata": {
        "id": "CEhhxbxgXYgA"
      },
      "execution_count": null,
      "outputs": []
    },
    {
      "cell_type": "code",
      "source": [
        "# Grid Search CV\n",
        "categorical_features = [0,1,2,4,5]\n",
        "numerical_features = [3,6,7,8,9,10,11,12]\n",
        "preprocessor= ColumnTransformer(transformers=[('cat',OneHotEncoder(drop='first'),categorical_features),\n",
        "                                        'num', StandardScaler(),numerical_features])\n",
        "reg_model= GradientBoostingRegressor(random_state=15)\n",
        "pipe=Pipeline([('s1',ct_ohe),('regressor',reg_model)])\n",
        "param_grid = {\n",
        "    'regressor__n_estimators':[100,200,500,1000],\n",
        "    'regressor__learning_rate':[0.05,0.1,0.2],\n",
        "    'regressor__max_depth':[3,4,5,8,10,12],\n",
        "    'regressor__subsample':[0.8,1.0]\n",
        "}\n",
        "grid_search = GridSearchCV(pipe, param_grid, cv=3, scoring='r2',verbose=1,n_jobs=-1)\n",
        "grid_search.fit(X_train, y_train)\n",
        "best_model = grid_search.best_estimator_\n",
        "y_pred=best_model.predict(X_test)\n",
        "print(\"R2 score:\",r2_score(y_test,y_pred))\n",
        "print(\"MAE:\",mean_absolute_error(y_test,y_pred))\n",
        "print(\"RMSE:\",root_mean_squared_error(y_test,y_pred))"
      ],
      "metadata": {
        "colab": {
          "base_uri": "https://localhost:8080/"
        },
        "id": "Py0AAsNNS7uw",
        "outputId": "7d7d82e9-51fe-4ab5-9138-653fc1e9f0a9"
      },
      "execution_count": 149,
      "outputs": [
        {
          "metadata": {
            "tags": null
          },
          "name": "stdout",
          "output_type": "stream",
          "text": [
            "Fitting 3 folds for each of 144 candidates, totalling 432 fits\n"
          ]
        },
        {
          "metadata": {
            "tags": null
          },
          "name": "stderr",
          "output_type": "stream",
          "text": [
            "/usr/local/lib/python3.12/dist-packages/sklearn/model_selection/_search.py:1108: UserWarning: One or more of the test scores are non-finite: [nan nan nan nan nan nan nan nan nan nan nan nan nan nan nan nan nan nan\n",
            " nan nan nan nan nan nan nan nan nan nan nan nan nan nan nan nan nan nan\n",
            " nan nan nan nan nan nan nan nan nan nan nan nan nan nan nan nan nan nan\n",
            " nan nan nan nan nan nan nan nan nan nan nan nan nan nan nan nan nan nan\n",
            " nan nan nan nan nan nan nan nan nan nan nan nan nan nan nan nan nan nan\n",
            " nan nan nan nan nan nan nan nan nan nan nan nan nan nan nan nan nan nan\n",
            " nan nan nan nan nan nan nan nan nan nan nan nan nan nan nan nan nan nan\n",
            " nan nan nan nan nan nan nan nan nan nan nan nan nan nan nan nan nan nan]\n",
            "  warnings.warn(\n"
          ]
        },
        {
          "metadata": {
            "tags": null
          },
          "name": "stdout",
          "output_type": "stream",
          "text": [
            "R2 score: 0.8311574038121186\n",
            "MAE: 19647.035040512445\n",
            "RMSE: 28447.418440466263\n"
          ]
        }
      ]
    },
    {
      "cell_type": "code",
      "source": [
        "# GradientBoosting Regression\n",
        "categorical_features = [0,1,2,4,5]\n",
        "numerical_features = [3,6,7,8,9,10,11,12]\n",
        "preprocessor= ColumnTransformer(transformers=[('cat',OneHotEncoder(drop='first'),categorical_features),\n",
        "                                        'num', StandardScaler(),numerical_features])\n",
        "reg_model= GradientBoostingRegressor(random_state=15,n_estimators=500, learning_rate=0.1, max_depth=2)\n",
        "pipe=Pipeline([('s1',ct_ohe),('s2',reg_model)])\n",
        "\n",
        "pipe.fit(X_train,y_train)\n",
        "y_pred=pipe.predict(X_test)\n",
        "print(\"R2 score:\",r2_score(y_test,y_pred))\n",
        "print(\"MAE:\",mean_absolute_error(y_test,y_pred))\n",
        "print(\"RMSE:\",root_mean_squared_error(y_test,y_pred))"
      ],
      "metadata": {
        "id": "7rBs1og4ZBIH",
        "colab": {
          "base_uri": "https://localhost:8080/"
        },
        "outputId": "051f0e8a-772d-4f5b-f1ff-d6a0f82881fb"
      },
      "execution_count": 150,
      "outputs": [
        {
          "metadata": {
            "tags": null
          },
          "name": "stdout",
          "output_type": "stream",
          "text": [
            "R2 score: 0.8776153816516135\n",
            "MAE: 17306.905802918856\n",
            "RMSE: 24219.505358562135\n"
          ]
        }
      ]
    },
    {
      "cell_type": "code",
      "source": [
        "X_train.sample()"
      ],
      "metadata": {
        "id": "9f5Ylr89VItZ",
        "colab": {
          "base_uri": "https://localhost:8080/",
          "height": 98
        },
        "outputId": "abf1a1b6-614c-4a8c-e545-6b6b05490a45"
      },
      "execution_count": 151,
      "outputs": [
        {
          "data": {
            "application/vnd.google.colaboratory.intrinsic+json": {
              "summary": "{\n  \"name\": \"X_train\",\n  \"rows\": 1,\n  \"fields\": [\n    {\n      \"column\": \"Company\",\n      \"properties\": {\n        \"dtype\": \"string\",\n        \"num_unique_values\": 1,\n        \"samples\": [\n          \"Asus\"\n        ],\n        \"semantic_type\": \"\",\n        \"description\": \"\"\n      }\n    },\n    {\n      \"column\": \"TypeName\",\n      \"properties\": {\n        \"dtype\": \"string\",\n        \"num_unique_values\": 1,\n        \"samples\": [\n          \"Notebook\"\n        ],\n        \"semantic_type\": \"\",\n        \"description\": \"\"\n      }\n    },\n    {\n      \"column\": \"Cpu\",\n      \"properties\": {\n        \"dtype\": \"string\",\n        \"num_unique_values\": 1,\n        \"samples\": [\n          \"Intel Celeron\"\n        ],\n        \"semantic_type\": \"\",\n        \"description\": \"\"\n      }\n    },\n    {\n      \"column\": \"Ram\",\n      \"properties\": {\n        \"dtype\": \"number\",\n        \"std\": null,\n        \"min\": 4,\n        \"max\": 4,\n        \"num_unique_values\": 1,\n        \"samples\": [\n          4\n        ],\n        \"semantic_type\": \"\",\n        \"description\": \"\"\n      }\n    },\n    {\n      \"column\": \"Gpu\",\n      \"properties\": {\n        \"dtype\": \"string\",\n        \"num_unique_values\": 1,\n        \"samples\": [\n          \"Intel HD\"\n        ],\n        \"semantic_type\": \"\",\n        \"description\": \"\"\n      }\n    },\n    {\n      \"column\": \"OpSys\",\n      \"properties\": {\n        \"dtype\": \"string\",\n        \"num_unique_values\": 1,\n        \"samples\": [\n          \"Windows 10\"\n        ],\n        \"semantic_type\": \"\",\n        \"description\": \"\"\n      }\n    },\n    {\n      \"column\": \"Weight\",\n      \"properties\": {\n        \"dtype\": \"number\",\n        \"std\": null,\n        \"min\": 1.65,\n        \"max\": 1.65,\n        \"num_unique_values\": 1,\n        \"samples\": [\n          1.65\n        ],\n        \"semantic_type\": \"\",\n        \"description\": \"\"\n      }\n    },\n    {\n      \"column\": \"TouchScreen\",\n      \"properties\": {\n        \"dtype\": \"number\",\n        \"std\": null,\n        \"min\": 0,\n        \"max\": 0,\n        \"num_unique_values\": 1,\n        \"samples\": [\n          0\n        ],\n        \"semantic_type\": \"\",\n        \"description\": \"\"\n      }\n    },\n    {\n      \"column\": \"IPS\",\n      \"properties\": {\n        \"dtype\": \"number\",\n        \"std\": null,\n        \"min\": 0,\n        \"max\": 0,\n        \"num_unique_values\": 1,\n        \"samples\": [\n          0\n        ],\n        \"semantic_type\": \"\",\n        \"description\": \"\"\n      }\n    },\n    {\n      \"column\": \"Cpu_Speed\",\n      \"properties\": {\n        \"dtype\": \"number\",\n        \"std\": null,\n        \"min\": 1.1,\n        \"max\": 1.1,\n        \"num_unique_values\": 1,\n        \"samples\": [\n          1.1\n        ],\n        \"semantic_type\": \"\",\n        \"description\": \"\"\n      }\n    },\n    {\n      \"column\": \"HDD\",\n      \"properties\": {\n        \"dtype\": \"number\",\n        \"std\": null,\n        \"min\": 0,\n        \"max\": 0,\n        \"num_unique_values\": 1,\n        \"samples\": [\n          0\n        ],\n        \"semantic_type\": \"\",\n        \"description\": \"\"\n      }\n    },\n    {\n      \"column\": \"SSD\",\n      \"properties\": {\n        \"dtype\": \"number\",\n        \"std\": null,\n        \"min\": 0,\n        \"max\": 0,\n        \"num_unique_values\": 1,\n        \"samples\": [\n          0\n        ],\n        \"semantic_type\": \"\",\n        \"description\": \"\"\n      }\n    },\n    {\n      \"column\": \"ppi\",\n      \"properties\": {\n        \"dtype\": \"number\",\n        \"std\": null,\n        \"min\": 111.14,\n        \"max\": 111.14,\n        \"num_unique_values\": 1,\n        \"samples\": [\n          111.14\n        ],\n        \"semantic_type\": \"\",\n        \"description\": \"\"\n      }\n    }\n  ]\n}",
              "type": "dataframe"
            },
            "text/html": [
              "\n",
              "  <div id=\"df-4a2e3d83-c291-4587-bc20-fd31ba8281c5\" class=\"colab-df-container\">\n",
              "    <div>\n",
              "<style scoped>\n",
              "    .dataframe tbody tr th:only-of-type {\n",
              "        vertical-align: middle;\n",
              "    }\n",
              "\n",
              "    .dataframe tbody tr th {\n",
              "        vertical-align: top;\n",
              "    }\n",
              "\n",
              "    .dataframe thead th {\n",
              "        text-align: right;\n",
              "    }\n",
              "</style>\n",
              "<table border=\"1\" class=\"dataframe\">\n",
              "  <thead>\n",
              "    <tr style=\"text-align: right;\">\n",
              "      <th></th>\n",
              "      <th>Company</th>\n",
              "      <th>TypeName</th>\n",
              "      <th>Cpu</th>\n",
              "      <th>Ram</th>\n",
              "      <th>Gpu</th>\n",
              "      <th>OpSys</th>\n",
              "      <th>Weight</th>\n",
              "      <th>TouchScreen</th>\n",
              "      <th>IPS</th>\n",
              "      <th>Cpu_Speed</th>\n",
              "      <th>HDD</th>\n",
              "      <th>SSD</th>\n",
              "      <th>ppi</th>\n",
              "    </tr>\n",
              "  </thead>\n",
              "  <tbody>\n",
              "    <tr>\n",
              "      <th>840</th>\n",
              "      <td>Asus</td>\n",
              "      <td>Notebook</td>\n",
              "      <td>Intel Celeron</td>\n",
              "      <td>4</td>\n",
              "      <td>Intel HD</td>\n",
              "      <td>Windows 10</td>\n",
              "      <td>1.65</td>\n",
              "      <td>0</td>\n",
              "      <td>0</td>\n",
              "      <td>1.1</td>\n",
              "      <td>0</td>\n",
              "      <td>0</td>\n",
              "      <td>111.14</td>\n",
              "    </tr>\n",
              "  </tbody>\n",
              "</table>\n",
              "</div>\n",
              "    <div class=\"colab-df-buttons\">\n",
              "\n",
              "  <div class=\"colab-df-container\">\n",
              "    <button class=\"colab-df-convert\" onclick=\"convertToInteractive('df-4a2e3d83-c291-4587-bc20-fd31ba8281c5')\"\n",
              "            title=\"Convert this dataframe to an interactive table.\"\n",
              "            style=\"display:none;\">\n",
              "\n",
              "  <svg xmlns=\"http://www.w3.org/2000/svg\" height=\"24px\" viewBox=\"0 -960 960 960\">\n",
              "    <path d=\"M120-120v-720h720v720H120Zm60-500h600v-160H180v160Zm220 220h160v-160H400v160Zm0 220h160v-160H400v160ZM180-400h160v-160H180v160Zm440 0h160v-160H620v160ZM180-180h160v-160H180v160Zm440 0h160v-160H620v160Z\"/>\n",
              "  </svg>\n",
              "    </button>\n",
              "\n",
              "  <style>\n",
              "    .colab-df-container {\n",
              "      display:flex;\n",
              "      gap: 12px;\n",
              "    }\n",
              "\n",
              "    .colab-df-convert {\n",
              "      background-color: #E8F0FE;\n",
              "      border: none;\n",
              "      border-radius: 50%;\n",
              "      cursor: pointer;\n",
              "      display: none;\n",
              "      fill: #1967D2;\n",
              "      height: 32px;\n",
              "      padding: 0 0 0 0;\n",
              "      width: 32px;\n",
              "    }\n",
              "\n",
              "    .colab-df-convert:hover {\n",
              "      background-color: #E2EBFA;\n",
              "      box-shadow: 0px 1px 2px rgba(60, 64, 67, 0.3), 0px 1px 3px 1px rgba(60, 64, 67, 0.15);\n",
              "      fill: #174EA6;\n",
              "    }\n",
              "\n",
              "    .colab-df-buttons div {\n",
              "      margin-bottom: 4px;\n",
              "    }\n",
              "\n",
              "    [theme=dark] .colab-df-convert {\n",
              "      background-color: #3B4455;\n",
              "      fill: #D2E3FC;\n",
              "    }\n",
              "\n",
              "    [theme=dark] .colab-df-convert:hover {\n",
              "      background-color: #434B5C;\n",
              "      box-shadow: 0px 1px 3px 1px rgba(0, 0, 0, 0.15);\n",
              "      filter: drop-shadow(0px 1px 2px rgba(0, 0, 0, 0.3));\n",
              "      fill: #FFFFFF;\n",
              "    }\n",
              "  </style>\n",
              "\n",
              "    <script>\n",
              "      const buttonEl =\n",
              "        document.querySelector('#df-4a2e3d83-c291-4587-bc20-fd31ba8281c5 button.colab-df-convert');\n",
              "      buttonEl.style.display =\n",
              "        google.colab.kernel.accessAllowed ? 'block' : 'none';\n",
              "\n",
              "      async function convertToInteractive(key) {\n",
              "        const element = document.querySelector('#df-4a2e3d83-c291-4587-bc20-fd31ba8281c5');\n",
              "        const dataTable =\n",
              "          await google.colab.kernel.invokeFunction('convertToInteractive',\n",
              "                                                    [key], {});\n",
              "        if (!dataTable) return;\n",
              "\n",
              "        const docLinkHtml = 'Like what you see? Visit the ' +\n",
              "          '<a target=\"_blank\" href=https://colab.research.google.com/notebooks/data_table.ipynb>data table notebook</a>'\n",
              "          + ' to learn more about interactive tables.';\n",
              "        element.innerHTML = '';\n",
              "        dataTable['output_type'] = 'display_data';\n",
              "        await google.colab.output.renderOutput(dataTable, element);\n",
              "        const docLink = document.createElement('div');\n",
              "        docLink.innerHTML = docLinkHtml;\n",
              "        element.appendChild(docLink);\n",
              "      }\n",
              "    </script>\n",
              "  </div>\n",
              "\n",
              "\n",
              "    </div>\n",
              "  </div>\n"
            ],
            "text/plain": [
              "    Company  TypeName            Cpu  Ram       Gpu       OpSys  Weight  \\\n",
              "840    Asus  Notebook  Intel Celeron    4  Intel HD  Windows 10    1.65   \n",
              "\n",
              "     TouchScreen  IPS  Cpu_Speed  HDD  SSD     ppi  \n",
              "840            0    0        1.1    0    0  111.14  "
            ]
          },
          "execution_count": 151,
          "metadata": {},
          "output_type": "execute_result"
        }
      ]
    },
    {
      "cell_type": "code",
      "source": [
        "query = [['HP','Ultrabook','Intel Core i5',16,'Intel HD','Windows 10',2.2,0,0,2.0,0,512,144]]"
      ],
      "metadata": {
        "id": "XRXEJtt6Xc3U"
      },
      "execution_count": 152,
      "outputs": []
    },
    {
      "cell_type": "code",
      "source": [
        "op=pipe.predict(query)"
      ],
      "metadata": {
        "id": "_d0q8ZAqXzq-",
        "colab": {
          "base_uri": "https://localhost:8080/"
        },
        "outputId": "297737b0-088c-47b8-8c1b-a4ccddb78636"
      },
      "execution_count": 153,
      "outputs": [
        {
          "metadata": {
            "tags": null
          },
          "name": "stderr",
          "output_type": "stream",
          "text": [
            "/usr/local/lib/python3.12/dist-packages/sklearn/utils/validation.py:2739: UserWarning: X does not have valid feature names, but OneHotEncoder was fitted with feature names\n",
            "  warnings.warn(\n"
          ]
        }
      ]
    },
    {
      "cell_type": "code",
      "source": [
        "print(\"The estimated price of the laptop with the above mentioned specs is Rs.\"+str(int(round(op[0],-2)))+\".\")"
      ],
      "metadata": {
        "id": "jhSiDtCd2nWs",
        "colab": {
          "base_uri": "https://localhost:8080/"
        },
        "outputId": "3151e71c-5c48-442e-9dc8-4753752ffadb"
      },
      "execution_count": 154,
      "outputs": [
        {
          "metadata": {
            "tags": null
          },
          "name": "stdout",
          "output_type": "stream",
          "text": [
            "The estimated price of the laptop with the above mentioned specs is Rs.167200.\n"
          ]
        }
      ]
    },
    {
      "cell_type": "code",
      "source": [
        "# Session : 81 CASE STUDY 20/09/2023"
      ],
      "metadata": {
        "id": "bgYiEbT1X2CA"
      },
      "execution_count": 155,
      "outputs": []
    },
    {
      "cell_type": "code",
      "source": [
        "# Deployment"
      ],
      "metadata": {
        "id": "WZ1qpflyfE4-"
      },
      "execution_count": 156,
      "outputs": []
    },
    {
      "cell_type": "code",
      "source": [
        "# Streamlit\n",
        "# Streamlit cloud\n",
        "# GitHub"
      ],
      "metadata": {
        "id": "e6icwV-sgUxP"
      },
      "execution_count": 157,
      "outputs": []
    },
    {
      "cell_type": "code",
      "source": [
        "import pickle\n",
        "pickle.dump(pipe,open('pipe.pkl','wb'))\n",
        "pickle.dump(df,open('df.pkl','wb'))"
      ],
      "metadata": {
        "id": "JvYeY7lkk4Lm"
      },
      "execution_count": 158,
      "outputs": []
    },
    {
      "cell_type": "code",
      "source": [
        "!pip install streamlit --quiet"
      ],
      "metadata": {
        "id": "jnULL_xig4PG",
        "colab": {
          "base_uri": "https://localhost:8080/"
        },
        "outputId": "7740422b-3820-4eef-e4b6-31389f27d4a2"
      },
      "execution_count": 159,
      "outputs": [
        {
          "metadata": {
            "tags": null
          },
          "name": "stdout",
          "output_type": "stream",
          "text": [
            "\u001b[2K   \u001b[90m━━━━━━━━━━━━━━━━━━━━━━━━━━━━━━━━━━━━━━━━\u001b[0m \u001b[32m10.0/10.0 MB\u001b[0m \u001b[31m72.0 MB/s\u001b[0m eta \u001b[36m0:00:00\u001b[0m\n",
            "\u001b[2K   \u001b[90m━━━━━━━━━━━━━━━━━━━━━━━━━━━━━━━━━━━━━━━━\u001b[0m \u001b[32m6.9/6.9 MB\u001b[0m \u001b[31m76.4 MB/s\u001b[0m eta \u001b[36m0:00:00\u001b[0m\n",
            "\u001b[?25h"
          ]
        }
      ]
    },
    {
      "cell_type": "code",
      "source": [
        "%%writefile laptop_app.py\n",
        "import streamlit as st\n",
        "import pickle\n",
        "df=pickle.load(open('df.pkl','rb')) # rb=read binary\n",
        "pipe=pickle.load(open('pipe.pkl','rb'))\n",
        "st.title(\"Laptop Price Predictor App\")\n",
        "st.text(\"This app is using only a select few laptops(around 1200 laptops), so it may only align exactly with real world data\")\n",
        "company = st.selectbox(\"Manufacturer of the laptop\",df['Company'].unique(),index=4)\n",
        "typename = st.radio(\"Type of the laptop\",df['TypeName'].unique(),horizontal=True,index=1)\n",
        "cpu = st.selectbox(\"Processor\",df['Cpu'].unique())\n",
        "ram = st.pills(\"RAM on the system(in GB)\",[4,8,12,16,24,32,64,128])\n",
        "gpu=st.radio(\"Graphics Card\",df['Gpu'].unique(),index=1,horizontal=True)\n",
        "os=st.selectbox(\"Operating System\",df['OpSys'].unique(),index=2)\n",
        "weight=st.slider(\"Weight of the laptop(in kgs)\",min_value=0.7,max_value=4.8,value=2.1)\n",
        "touchscreen=st.pills(\"Does the laptop have touchscreen?\",['Yes','No'])\n",
        "ips=st.pills(\"Does the laptop have an IPS display?\",['Yes','No'])\n",
        "cpu_speed=st.slider(\"Clock Speed of CPU(in GHz)\",min_value=0.9,max_value=3.6,step=0.1,value=2.3)\n",
        "hdd=st.pills(\"Hard disk size on the system(in GB). If there is SSD, select this as 0\",\n",
        "             [0,512,1024,2000])\n",
        "ssd=st.pills(\"SSD storage on the system(in GB).\",[0,256,512,1024,2000])\n",
        "scree_size=st.slider(\"Screen size(measured diagonally, in inches)\",min_value=10.0,max_value=18.4,value=15.6,step=0.1)\n",
        "screen_resolution=st.selectbox(\"Laptop Screen Resolution (in pixels)\",[\"2560x1600\",\"1440x900\",\"1920x1080\",\"2880x1800\",\"1366x768\",\"2304x1440\",\"3200x1800\",\"1920x1200\",\"2256x1504\",\n",
        "  \"3840x2160\",\"2160x1440\",\"2560x1440\",\"1600x900\",\"2736x1824\",\"2400x1600\"],index=2)\n",
        "\n",
        "if st.button(\"PREDICT PRICE\"):\n",
        "    if touchscreen=='Yes':\n",
        "        touchscreen=1\n",
        "    else:\n",
        "        touchscreen=0\n",
        "    if ips=='Yes':\n",
        "        ips=1\n",
        "    else:\n",
        "        ips=0\n",
        "    X_res=int(screen_resolution.split('x')[0])\n",
        "    Y_res=int(screen_resolution.split('x')[1])\n",
        "    ppi=((X_res**2)+(Y_res**2)**0.5)/scree_size\n",
        "    query=[[company,typename,cpu,ram,gpu,os,weight,touchscreen,ips,cpu_speed,hdd,ssd,ppi]]\n",
        "    op=pipe.predict(query)\n",
        "    st.subheader(\"The estimated price of the laptop with the above mentioned specs is Rs.\"+str(int(round(op[0],-2)))+\".\")"
      ],
      "metadata": {
        "id": "AwFCze4xg6ze",
        "colab": {
          "base_uri": "https://localhost:8080/"
        },
        "outputId": "14565800-e830-4c43-d67e-78a698a74b9b"
      },
      "execution_count": 160,
      "outputs": [
        {
          "output_type": "stream",
          "name": "stdout",
          "text": [
            "Writing laptop_app.py\n"
          ]
        }
      ]
    },
    {
      "cell_type": "code",
      "source": [
        "!streamlit run laptop_app.py & npx localtunnel --port 8501"
      ],
      "metadata": {
        "id": "lWlcRb4Ah2ZO",
        "colab": {
          "base_uri": "https://localhost:8080/"
        },
        "outputId": "08ba5090-04a2-4025-cf22-cd7c8c378725"
      },
      "execution_count": null,
      "outputs": [
        {
          "output_type": "stream",
          "name": "stdout",
          "text": [
            "\u001b[1G\u001b[0K⠙\n",
            "Collecting usage statistics. To deactivate, set browser.gatherUsageStats to false.\n",
            "\u001b[0m\n",
            "\u001b[1G\u001b[0K⠹\u001b[1G\u001b[0K⠸\u001b[1G\u001b[0K⠼\u001b[1G\u001b[0K⠴\u001b[1G\u001b[0K⠦\u001b[1G\u001b[0K⠧\u001b[1G\u001b[0K⠇\u001b[1G\u001b[0K⠏\u001b[1G\u001b[0K⠋\u001b[1G\u001b[0K⠙\u001b[1G\u001b[0K⠹\u001b[0m\n",
            "\u001b[34m\u001b[1m  You can now view your Streamlit app in your browser.\u001b[0m\n",
            "\u001b[0m\n",
            "\u001b[34m  Local URL: \u001b[0m\u001b[1mhttp://localhost:8501\u001b[0m\n",
            "\u001b[34m  Network URL: \u001b[0m\u001b[1mhttp://172.28.0.12:8501\u001b[0m\n",
            "\u001b[34m  External URL: \u001b[0m\u001b[1mhttp://34.86.132.147:8501\u001b[0m\n",
            "\u001b[0m\n",
            "\u001b[1G\u001b[0K⠸\u001b[1G\u001b[0K⠼\u001b[1G\u001b[0K⠴\u001b[1G\u001b[0K⠦\u001b[1G\u001b[0K\u001b[1G\u001b[0JNeed to install the following packages:\n",
            "localtunnel@2.0.2\n",
            "Ok to proceed? (y) \u001b[20Gy\n",
            "\n",
            "\u001b[1G\u001b[0K⠙\u001b[1G\u001b[0K⠹\u001b[1G\u001b[0K⠸\u001b[1G\u001b[0K⠼\u001b[1G\u001b[0K⠴\u001b[1G\u001b[0K⠦\u001b[1G\u001b[0K⠧\u001b[1G\u001b[0K⠇\u001b[1G\u001b[0K⠏\u001b[1G\u001b[0K⠋\u001b[1G\u001b[0K⠙\u001b[1G\u001b[0K⠹\u001b[1G\u001b[0K⠸\u001b[1G\u001b[0K⠼\u001b[1G\u001b[0K⠴\u001b[1G\u001b[0K⠦\u001b[1G\u001b[0K⠧\u001b[1G\u001b[0K⠇\u001b[1G\u001b[0Kyour url is: https://khaki-paws-help.loca.lt\n"
          ]
        }
      ]
    },
    {
      "cell_type": "code",
      "source": [],
      "metadata": {
        "id": "kVmY4Ybui6E_"
      },
      "execution_count": null,
      "outputs": []
    }
  ],
  "metadata": {
    "colab": {
      "provenance": []
    },
    "kernelspec": {
      "display_name": "Python 3",
      "name": "python3"
    },
    "language_info": {
      "name": "python"
    }
  },
  "nbformat": 4,
  "nbformat_minor": 0
}